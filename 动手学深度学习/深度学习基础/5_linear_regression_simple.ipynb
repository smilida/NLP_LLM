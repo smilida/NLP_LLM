{
 "cells": [
  {
   "cell_type": "markdown",
   "id": "5d27dada",
   "metadata": {},
   "source": [
    "# 线性回归的简洁实现\n",
    "通过使用深度学习框架来简洁地实现线性回归模型生成数据集"
   ]
  },
  {
   "cell_type": "code",
   "execution_count": 1,
   "id": "fcef222d",
   "metadata": {},
   "outputs": [],
   "source": [
    "import numpy as np\n",
    "import torch\n",
    "from torch.utils import data\n",
    "from d2l import torch as d2l\n",
    "\n",
    "true_w = torch.tensor([2, -3.4])\n",
    "true_b = 4.2\n",
    "features, labels = d2l.synthetic_data(true_w, true_b, 1000)"
   ]
  },
  {
   "cell_type": "markdown",
   "id": "b7b6bf77",
   "metadata": {},
   "source": [
    "调用框架中现有的API来读取数据"
   ]
  },
  {
   "cell_type": "code",
   "execution_count": 2,
   "id": "71425fd0",
   "metadata": {},
   "outputs": [
    {
     "data": {
      "text/plain": [
       "[tensor([[ 1.3349, -0.4891],\n",
       "         [ 0.6737, -0.8463],\n",
       "         [-0.8536,  1.0120],\n",
       "         [ 0.3281, -1.6386],\n",
       "         [ 0.9560, -0.2825],\n",
       "         [-0.8876, -0.2120],\n",
       "         [-1.2847, -0.0313],\n",
       "         [ 1.4116,  1.4981],\n",
       "         [-0.6351, -0.4749],\n",
       "         [-1.1608,  0.0596]]),\n",
       " tensor([[ 8.5406],\n",
       "         [ 8.4136],\n",
       "         [-0.9637],\n",
       "         [10.4335],\n",
       "         [ 7.0753],\n",
       "         [ 3.1395],\n",
       "         [ 1.7486],\n",
       "         [ 1.9311],\n",
       "         [ 4.5390],\n",
       "         [ 1.6888]])]"
      ]
     },
     "execution_count": 2,
     "metadata": {},
     "output_type": "execute_result"
    }
   ],
   "source": [
    "def load_array(data_arrays, batch_size, is_train=True):\n",
    "    dataset = data.TensorDataset(*data_arrays)\n",
    "    return data.DataLoader(dataset, batch_size, shuffle=is_train)\n",
    "\n",
    "batch_size = 10\n",
    "data_iter = load_array((features, labels), batch_size)\n",
    "\n",
    "next(iter(data_iter))"
   ]
  },
  {
   "cell_type": "markdown",
   "id": "6103d03a",
   "metadata": {},
   "source": [
    "使用框架的预定义好的层"
   ]
  },
  {
   "cell_type": "code",
   "execution_count": 3,
   "id": "2bdedd1b",
   "metadata": {},
   "outputs": [],
   "source": [
    "from torch import nn\n",
    "\n",
    "net = nn.Sequential(nn.Linear(2, 1))"
   ]
  },
  {
   "cell_type": "markdown",
   "id": "8e482318",
   "metadata": {},
   "source": [
    "初始化模型参数"
   ]
  },
  {
   "cell_type": "code",
   "execution_count": 4,
   "id": "8d60318a",
   "metadata": {},
   "outputs": [
    {
     "data": {
      "text/plain": [
       "tensor([0.])"
      ]
     },
     "execution_count": 4,
     "metadata": {},
     "output_type": "execute_result"
    }
   ],
   "source": [
    "net[0].weight.data.normal_(0, 0.01)\n",
    "net[0].bias.data.fill_(0)"
   ]
  },
  {
   "cell_type": "markdown",
   "id": "423f3ab5",
   "metadata": {},
   "source": [
    "计算均方误差使用的是MESLoss类，也称为平方L2范数"
   ]
  },
  {
   "cell_type": "code",
   "execution_count": 5,
   "id": "8ee86078",
   "metadata": {},
   "outputs": [],
   "source": [
    "loss = nn.MSELoss()"
   ]
  },
  {
   "cell_type": "markdown",
   "id": "e6f366f5",
   "metadata": {},
   "source": [
    "实例化SGD实例"
   ]
  },
  {
   "cell_type": "code",
   "execution_count": 6,
   "id": "ff3fcffb",
   "metadata": {},
   "outputs": [],
   "source": [
    "trainer = torch.optim.SGD(net.parameters(), lr=0.03)"
   ]
  },
  {
   "cell_type": "markdown",
   "id": "a717493b",
   "metadata": {},
   "source": [
    "训练过程代码与我们从零开始实现时所做的非常相似"
   ]
  },
  {
   "cell_type": "code",
   "execution_count": 7,
   "id": "f24db5f2",
   "metadata": {},
   "outputs": [
    {
     "name": "stdout",
     "output_type": "stream",
     "text": [
      "epoch 1, loss 0.000248\n",
      "epoch 2, loss 0.000104\n",
      "epoch 3, loss 0.000105\n"
     ]
    }
   ],
   "source": [
    "num_epochs = 3\n",
    "for epoch in range(num_epochs):\n",
    "    for X, y in data_iter:\n",
    "        l = loss(net(X), y)\n",
    "        trainer.zero_grad()\n",
    "        l.backward()\n",
    "        trainer.step()\n",
    "    l = loss(net(features), labels)\n",
    "    print(f'epoch {epoch + 1}, loss {l:f}')"
   ]
  },
  {
   "cell_type": "markdown",
   "id": "e98829bf",
   "metadata": {},
   "source": [
    "比较生成数据集的真实参数和通过有线数据训练获得的模型参数"
   ]
  },
  {
   "cell_type": "code",
   "execution_count": 8,
   "id": "75e81d8c",
   "metadata": {},
   "outputs": [
    {
     "name": "stdout",
     "output_type": "stream",
     "text": [
      "w的估计误差： tensor([-0.0009, -0.0007])\n",
      "b的估计误差： tensor([-2.8610e-05])\n"
     ]
    }
   ],
   "source": [
    "w = net[0].weight.data\n",
    "print('w的估计误差：', true_w - w.reshape(true_w.shape))\n",
    "b = net[0].bias.data\n",
    "print('b的估计误差：', true_b - b)"
   ]
  }
 ],
 "metadata": {
  "kernelspec": {
   "display_name": "d2l",
   "language": "python",
   "name": "python3"
  },
  "language_info": {
   "codemirror_mode": {
    "name": "ipython",
    "version": 3
   },
   "file_extension": ".py",
   "mimetype": "text/x-python",
   "name": "python",
   "nbconvert_exporter": "python",
   "pygments_lexer": "ipython3",
   "version": "3.10.14"
  }
 },
 "nbformat": 4,
 "nbformat_minor": 5
}
