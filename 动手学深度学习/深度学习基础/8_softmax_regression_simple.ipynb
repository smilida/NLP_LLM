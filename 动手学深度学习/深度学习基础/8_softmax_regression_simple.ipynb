{
 "cells": [
  {
   "cell_type": "markdown",
   "id": "6c5b5d8b",
   "metadata": {},
   "source": [
    "# softmax回归的简单实现\n",
    "通过使用深度学习框架的高级API能够使实现softmax回归变得更加容易"
   ]
  },
  {
   "cell_type": "code",
   "execution_count": 8,
   "id": "51c9c95e",
   "metadata": {},
   "outputs": [],
   "source": [
    "import torch\n",
    "from torch import nn\n",
    "from d2l import torch as d2l\n",
    "\n",
    "batch_size = 256\n",
    "train_iter, test_iter = d2l.load_data_fashion_mnist(batch_size)"
   ]
  },
  {
   "cell_type": "markdown",
   "id": "188d691e",
   "metadata": {},
   "source": [
    "softmax回归的输出层是个全连接层"
   ]
  },
  {
   "cell_type": "code",
   "execution_count": 4,
   "id": "d112ce90",
   "metadata": {},
   "outputs": [
    {
     "data": {
      "text/plain": [
       "Sequential(\n",
       "  (0): Flatten(start_dim=1, end_dim=-1)\n",
       "  (1): Linear(in_features=784, out_features=10, bias=True)\n",
       ")"
      ]
     },
     "execution_count": 4,
     "metadata": {},
     "output_type": "execute_result"
    }
   ],
   "source": [
    "# pytorch不会隐式地调整输入的形状\n",
    "# 因此，我们定义了展平层（flatten）在线性层前调整网络输入的形状\n",
    "net = nn.Sequential(nn.Flatten(), nn.Linear(784, 10))\n",
    "\n",
    "def init_weights(m):\n",
    "    if type(m) == nn.Linear:\n",
    "        nn.init.normal_(m.weight, std=0.01)\n",
    "\n",
    "net.apply(init_weights) # 初始化每一层的参数"
   ]
  },
  {
   "cell_type": "markdown",
   "id": "53d8adff",
   "metadata": {},
   "source": [
    "在交叉熵损失函数中传递未归一化的预测，并同时计算softmax及其对数"
   ]
  },
  {
   "cell_type": "code",
   "execution_count": 5,
   "id": "5e40e229",
   "metadata": {},
   "outputs": [],
   "source": [
    "loss = nn.CrossEntropyLoss()"
   ]
  },
  {
   "cell_type": "markdown",
   "id": "69bb00b1",
   "metadata": {},
   "source": [
    "使用学习率为0.1的小批量随机梯度下降作为优化算法"
   ]
  },
  {
   "cell_type": "code",
   "execution_count": 6,
   "id": "b413c0a3",
   "metadata": {},
   "outputs": [],
   "source": [
    "trainer = torch.optim.SGD(net.parameters(), lr=0.1)"
   ]
  },
  {
   "cell_type": "markdown",
   "id": "77f2198b",
   "metadata": {},
   "source": [
    "调用之前定义的训练函数来训练模型"
   ]
  },
  {
   "cell_type": "code",
   "execution_count": null,
   "id": "b6d20f06",
   "metadata": {},
   "outputs": [],
   "source": [
    "num_epochs = 10\n",
    "d2l.train_ch3(net, train_iter, test_iter, loss, num_epochs, trainer)"
   ]
  }
 ],
 "metadata": {
  "kernelspec": {
   "display_name": "d2l",
   "language": "python",
   "name": "python3"
  },
  "language_info": {
   "codemirror_mode": {
    "name": "ipython",
    "version": 3
   },
   "file_extension": ".py",
   "mimetype": "text/x-python",
   "name": "python",
   "nbconvert_exporter": "python",
   "pygments_lexer": "ipython3",
   "version": "3.10.14"
  }
 },
 "nbformat": 4,
 "nbformat_minor": 5
}
